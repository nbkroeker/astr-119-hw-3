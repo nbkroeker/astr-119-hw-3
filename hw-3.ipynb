{
 "cells": [
  {
   "cell_type": "markdown",
   "metadata": {},
   "source": [
    "## Imports"
   ]
  },
  {
   "cell_type": "code",
   "execution_count": null,
   "metadata": {},
   "outputs": [],
   "source": [
    "import numpy as np\n",
    "import matplotlib.pyplot as plt"
   ]
  },
  {
   "cell_type": "markdown",
   "metadata": {},
   "source": [
    "## Functions"
   ]
  },
  {
   "cell_type": "code",
   "execution_count": null,
   "metadata": {
    "scrolled": true
   },
   "outputs": [],
   "source": [
    "x = np.linspace(0, 2*np.pi, 1000)                    #Establish Domain\n",
    "\n",
    "f = 5.5 * np.cos(2*x) + 5.5\n",
    "g = 0.02 * np.exp(x)\n",
    "h = 0.25 * x**2 + 0.1 * np.sin(10*x)"
   ]
  },
  {
   "cell_type": "markdown",
   "metadata": {},
   "source": [
    "## Plot"
   ]
  },
  {
   "cell_type": "code",
   "execution_count": null,
   "metadata": {},
   "outputs": [],
   "source": [
    "plt.plot(x, f, label = 'f')\n",
    "plt.plot(x, g, label = 'g')\n",
    "plt.plot(x, h, label = 'h')\n",
    "\n",
    "plt.xlabel('Measures of Awesomeness')\n",
    "plt.ylabel('Time in ASTR 119')\n",
    "\n",
    "plt.xlim([0, 2*np.pi])\n",
    "plt.ylim([-1, 10])\n",
    "\n",
    "plt.legend()"
   ]
  }
 ],
 "metadata": {
  "kernelspec": {
   "display_name": "Python 3",
   "language": "python",
   "name": "python3"
  },
  "language_info": {
   "codemirror_mode": {
    "name": "ipython",
    "version": 3
   },
   "file_extension": ".py",
   "mimetype": "text/x-python",
   "name": "python",
   "nbconvert_exporter": "python",
   "pygments_lexer": "ipython3",
   "version": "3.8.6"
  }
 },
 "nbformat": 4,
 "nbformat_minor": 4
}
